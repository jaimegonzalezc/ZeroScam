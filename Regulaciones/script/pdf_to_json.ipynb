{
  "nbformat": 4,
  "nbformat_minor": 0,
  "metadata": {
    "colab": {
      "provenance": []
    },
    "kernelspec": {
      "name": "python3",
      "display_name": "Python 3"
    },
    "language_info": {
      "name": "python"
    }
  },
  "cells": [
    {
      "cell_type": "markdown",
      "source": [
        "📄 Proyecto de Extracción y Procesamiento de Normativas en Ciberseguridad\n",
        "\n",
        "Este proyecto procesa 4 documentos normativos en formato PDF, estructurando su contenido y permitiendo búsquedas eficientes mediante procesamiento de lenguaje natural (NLP) y almacenamiento en ChromaDB para búsqueda semántica.\n",
        "📚 Documentos Utilizados 📚\n",
        "\n",
        "Los siguientes documentos fueron extraídos y procesados:\n",
        "\n",
        "    GDPR 2016/679 - Reglamento General de Protección de Datos (Unión Europea)\n",
        "    GDPR 2018/1725 - Protección de datos en instituciones de la UE\n",
        "    ISO 27001:2022 - Norma internacional para la gestión de seguridad de la información\n",
        "    NIST - Marco de seguridad cibernética del Instituto Nacional de Estándares y Tecnología (EE.UU.)\n",
        "\n",
        "Estos documentos fueron procesados en varias etapas para convertirlos en un formato estructurado, aplicar técnicas de NLP y almacenar sus embeddings para búsqueda semántica.\n",
        "📁 Estructura del Proyecto\n",
        "\n",
        "📁 data/ → PDFs originales\n",
        "📁 json/ → Archivos JSON extraídos de los PDFs\n",
        "📁 processed/ → Archivos procesados con NLP y embeddings\n",
        "📁 scripts/ → Código Python para procesamiento"
      ],
      "metadata": {
        "id": "H_4CKJj4c1kB"
      }
    },
    {
      "cell_type": "code",
      "source": [
        "!pip install pymupdf\n",
        "!pip install pytesseract\n",
        "!pip install pdf2image\n",
        "!apt-get install poppler-utils -y  # Necesario para pdf2image\n",
        "!apt-get install tesseract-ocr-spa -y"
      ],
      "metadata": {
        "colab": {
          "base_uri": "https://localhost:8080/"
        },
        "id": "1qoJQIj7D_Vz",
        "outputId": "2acfefac-c732-4258-f57b-d5c1cc4cdd7d"
      },
      "execution_count": null,
      "outputs": [
        {
          "output_type": "stream",
          "name": "stdout",
          "text": [
            "Requirement already satisfied: pymupdf in /usr/local/lib/python3.11/dist-packages (1.25.3)\n",
            "Requirement already satisfied: pytesseract in /usr/local/lib/python3.11/dist-packages (0.3.13)\n",
            "Requirement already satisfied: packaging>=21.3 in /usr/local/lib/python3.11/dist-packages (from pytesseract) (24.2)\n",
            "Requirement already satisfied: Pillow>=8.0.0 in /usr/local/lib/python3.11/dist-packages (from pytesseract) (11.1.0)\n",
            "Requirement already satisfied: pdf2image in /usr/local/lib/python3.11/dist-packages (1.17.0)\n",
            "Requirement already satisfied: pillow in /usr/local/lib/python3.11/dist-packages (from pdf2image) (11.1.0)\n",
            "Reading package lists... Done\n",
            "Building dependency tree... Done\n",
            "Reading state information... Done\n",
            "poppler-utils is already the newest version (22.02.0-2ubuntu0.6).\n",
            "0 upgraded, 0 newly installed, 0 to remove and 22 not upgraded.\n",
            "Reading package lists... Done\n",
            "Building dependency tree... Done\n",
            "Reading state information... Done\n",
            "tesseract-ocr-spa is already the newest version (1:4.00~git30-7274cfa-1.1).\n",
            "0 upgraded, 0 newly installed, 0 to remove and 22 not upgraded.\n"
          ]
        }
      ]
    },
    {
      "cell_type": "code",
      "execution_count": null,
      "metadata": {
        "colab": {
          "base_uri": "https://localhost:8080/"
        },
        "id": "zWqNzb0BCxqH",
        "outputId": "fd836c05-a7ae-4558-cfa6-4be5a0e8311c"
      },
      "outputs": [
        {
          "output_type": "stream",
          "name": "stdout",
          "text": [
            "Drive already mounted at /content/drive; to attempt to forcibly remount, call drive.mount(\"/content/drive\", force_remount=True).\n"
          ]
        }
      ],
      "source": [
        "import fitz  # PyMuPDF\n",
        "import pytesseract  # OCR con Tesseract\n",
        "from pdf2image import convert_from_path  # Convertir PDF a imágenes para OCR\n",
        "import json  # Guardar el texto en formato JSON\n",
        "import os  # Manejar rutas de archivos\n",
        "\n",
        "from google.colab import drive\n",
        "drive.mount('/content/drive')"
      ]
    },
    {
      "cell_type": "code",
      "source": [
        "drive_folder = \"/content/drive/My Drive/Docs-Ciberseguridad/\"\n",
        "\n",
        "# Rutas de los PDFs en Google Drive\n",
        "pdf_files = {\n",
        "    \"GDPR_2016_679\": \"/content/drive/My Drive/Docs-Ciberseguridad/GDPR 2016679.pdf\",\n",
        "    \"GDPR_2018_1725\": \"/content/drive/My Drive/Docs-Ciberseguridad/GDPR 20181725.pdf\",\n",
        "    \"ISO_27001_2022\": \"/content/drive/My Drive/Docs-Ciberseguridad/ISO-27001-2022.pdf\",\n",
        "    \"NIST_CSF_2_0\": \"/content/drive/My Drive/Docs-Ciberseguridad/NIST.pdf\"\n",
        "}"
      ],
      "metadata": {
        "id": "GcNIIlQGExEF"
      },
      "execution_count": null,
      "outputs": []
    },
    {
      "cell_type": "code",
      "source": [
        "# Función para extraer texto digital y OCR si hay imágenes\n",
        "def extract_text_to_json(pdf_path):\n",
        "    \"\"\"Extrae texto digital y OCR de imágenes en un PDF y lo estructura en JSON.\"\"\"\n",
        "    doc = fitz.open(pdf_path)\n",
        "    structured_data = {\"title\": os.path.basename(pdf_path), \"sections\": []}\n",
        "\n",
        "    for page_num in range(len(doc)):\n",
        "        page = doc[page_num]\n",
        "\n",
        "        # Extraer texto digital primero\n",
        "        text = page.get_text(\"text\").strip()\n",
        "\n",
        "        # Verificar si la página tiene imágenes\n",
        "        images = page.get_images(full=True)\n",
        "        ocr_text = \"\"\n",
        "\n",
        "        if images:\n",
        "            # Convertir la página en imagen\n",
        "            image = convert_from_path(pdf_path, first_page=page_num+1, last_page=page_num+1)[0]\n",
        "            # Aplicar OCR con Tesseract\n",
        "            ocr_text = pytesseract.image_to_string(image, lang=\"spa\").strip()\n",
        "\n",
        "        # Combinar texto digital y OCR (si existe)\n",
        "        combined_text = text + \"\\n\\n\" + ocr_text if text and ocr_text else text or ocr_text\n",
        "\n",
        "        structured_data[\"sections\"].append({\"page\": page_num + 1, \"content\": combined_text})\n",
        "\n",
        "    return structured_data"
      ],
      "metadata": {
        "id": "lOxzfLkbFQGN"
      },
      "execution_count": null,
      "outputs": []
    },
    {
      "cell_type": "code",
      "source": [
        "# Procesar cada PDF y guardarlo en formato JSON\n",
        "output_json_files = {}\n",
        "for name, path in pdf_files.items():\n",
        "    print(f\"Procesando {name} en formato JSON...\")\n",
        "    extracted_json = extract_text_to_json(path)\n",
        "\n",
        "    # Guardar archivo JSON en Google Drive\n",
        "    output_path = os.path.join(drive_folder, f\"{name}.json\")\n",
        "    with open(output_path, \"w\", encoding=\"utf-8\") as f:\n",
        "        json.dump(extracted_json, f, ensure_ascii=False, indent=4)\n",
        "\n",
        "    output_json_files[name] = output_path\n",
        "    print(f\" Archivo JSON guardado en: {output_path}\")\n",
        "\n",
        "print(\" Extracción completada. Archivos JSON listos en Google Drive.\")"
      ],
      "metadata": {
        "colab": {
          "base_uri": "https://localhost:8080/"
        },
        "id": "g8u9A3n9FeCh",
        "outputId": "270d7bb3-5a00-42f1-d2c8-85720532db4d"
      },
      "execution_count": null,
      "outputs": [
        {
          "output_type": "stream",
          "name": "stdout",
          "text": [
            "Procesando GDPR_2016_679 en formato JSON...\n",
            " Archivo JSON guardado en: /content/drive/My Drive/Docs-Ciberseguridad/GDPR_2016_679.json\n",
            "Procesando GDPR_2018_1725 en formato JSON...\n",
            " Archivo JSON guardado en: /content/drive/My Drive/Docs-Ciberseguridad/GDPR_2018_1725.json\n",
            "Procesando ISO_27001_2022 en formato JSON...\n",
            " Archivo JSON guardado en: /content/drive/My Drive/Docs-Ciberseguridad/ISO_27001_2022.json\n",
            "Procesando NIST_CSF_2_0 en formato JSON...\n",
            " Archivo JSON guardado en: /content/drive/My Drive/Docs-Ciberseguridad/NIST_CSF_2_0.json\n",
            " Extracción completada. Archivos JSON listos en Google Drive.\n"
          ]
        }
      ]
    }
  ]
}